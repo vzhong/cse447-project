{
 "cells": [
  {
   "cell_type": "code",
   "execution_count": 1,
   "metadata": {},
   "outputs": [],
   "source": [
    "import json\n",
    "import os"
   ]
  },
  {
   "cell_type": "code",
   "execution_count": 2,
   "metadata": {},
   "outputs": [],
   "source": [
    "with open('train.json') as f:\n",
    "    data = json.load(f)\n",
    "\n",
    "trainFile = open(\"train.corpus\", \"w\")\n",
    "\n",
    "for key in data:\n",
    "    content = data[key]['content']\n",
    "    for element in content:\n",
    "        line = element[\"message\"]\n",
    "        if line[len(line) - 1] != '\\n':\n",
    "            line += '\\n'\n",
    "        trainFile.write(line)\n",
    "trainFile.close()"
   ]
  },
  {
   "cell_type": "code",
   "execution_count": 3,
   "metadata": {},
   "outputs": [],
   "source": [
    "with open('valid_freq.json') as f:\n",
    "    data = json.load(f)\n",
    "\n",
    "validFile = open(\"valid.corpus\", \"w\")\n",
    "\n",
    "for key in data:\n",
    "    content = data[key]['content']\n",
    "    for element in content:\n",
    "        line = element[\"message\"]\n",
    "        if line[len(line) - 1] != '\\n':\n",
    "            line += '\\n'\n",
    "        validFile.write(line)\n",
    "\n",
    "with open('valid_rare.json') as f:\n",
    "    data = json.load(f)        \n",
    "\n",
    "for key in data:\n",
    "    content = data[key]['content']\n",
    "    for element in content:\n",
    "        line = element[\"message\"]\n",
    "        if line[len(line) - 1] != '\\n':\n",
    "            line += '\\n'\n",
    "        validFile.write(line)\n",
    "validFile.close()"
   ]
  },
  {
   "cell_type": "code",
   "execution_count": 4,
   "metadata": {},
   "outputs": [],
   "source": [
    "with open('test_freq.json') as f:\n",
    "    data = json.load(f)\n",
    "\n",
    "validFile = open(\"test.corpus\", \"w\")\n",
    "\n",
    "for key in data:\n",
    "    content = data[key]['content']\n",
    "    for element in content:\n",
    "        line = element[\"message\"]\n",
    "        if line[len(line) - 1] != '\\n':\n",
    "            line += '\\n'\n",
    "        validFile.write(line)\n",
    "\n",
    "with open('test_rare.json') as f:\n",
    "    data = json.load(f)        \n",
    "\n",
    "for key in data:\n",
    "    content = data[key]['content']\n",
    "    for element in content:\n",
    "        line = element[\"message\"]\n",
    "        if line[len(line) - 1] != '\\n':\n",
    "            line += '\\n'\n",
    "        validFile.write(line)\n",
    "validFile.close()"
   ]
  },
  {
   "cell_type": "code",
   "execution_count": 6,
   "metadata": {},
   "outputs": [],
   "source": [
    "with open('train.corpus', \"r\") as f:\n",
    "    lines = f.read().split('\\n')\n",
    "shortTrainFile = open(\"shortTrain.corpus\", \"w\")\n",
    "for i in range(8000):\n",
    "    print(lines[i], file=shortTrainFile)\n",
    "shortTrainFile.close()\n",
    "f.close()"
   ]
  },
  {
   "cell_type": "code",
   "execution_count": 8,
   "metadata": {},
   "outputs": [],
   "source": [
    "with open('test.corpus', \"r\") as f:\n",
    "    lines = f.read().split('\\n')\n",
    "shortTestFile = open(\"shortTest.corpus\", \"w\")\n",
    "for i in range(2000):\n",
    "    print(lines[i], file=shortTestFile)\n",
    "shortTestFile.close()\n",
    "f.close()"
   ]
  },
  {
   "cell_type": "code",
   "execution_count": 7,
   "metadata": {},
   "outputs": [],
   "source": [
    "with open('valid.corpus', \"r\") as f:\n",
    "    lines = f.read().split('\\n')\n",
    "shortValidFile = open(\"shortValid.corpus\", \"w\")\n",
    "for i in range(1000):\n",
    "    print(lines[i], file=shortValidFile)\n",
    "shortValidFile.close()\n",
    "f.close()"
   ]
  },
  {
   "cell_type": "code",
   "execution_count": null,
   "metadata": {},
   "outputs": [],
   "source": []
  }
 ],
 "metadata": {
  "kernelspec": {
   "display_name": "Python 3",
   "language": "python",
   "name": "python3"
  },
  "language_info": {
   "codemirror_mode": {
    "name": "ipython",
    "version": 3
   },
   "file_extension": ".py",
   "mimetype": "text/x-python",
   "name": "python",
   "nbconvert_exporter": "python",
   "pygments_lexer": "ipython3",
   "version": "3.8.2-final"
  }
 },
 "nbformat": 4,
 "nbformat_minor": 4
}