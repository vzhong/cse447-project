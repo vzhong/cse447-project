{
 "cells": [
  {
   "cell_type": "code",
   "execution_count": 1,
   "metadata": {},
   "outputs": [],
   "source": [
    "from google_trans_new import google_translator  \n",
    "from multiprocessing.dummy import Pool as ThreadPool\n",
    "import time"
   ]
  },
  {
   "cell_type": "code",
   "execution_count": 2,
   "metadata": {},
   "outputs": [],
   "source": [
    "langs = ['zh', 'zh-TW', 'hi', 'es', 'fr', 'ar', 'bn']\n",
    "# https://cloud.google.com/translate/docs/languages"
   ]
  },
  {
   "cell_type": "code",
   "execution_count": 3,
   "metadata": {},
   "outputs": [],
   "source": [
    "def request(text):\n",
    "    translator = google_translator()\n",
    "    translate_text = translator.translate(text.strip(), lang_tgt='fr')\n",
    "    return translate_text"
   ]
  },
  {
   "cell_type": "code",
   "execution_count": 5,
   "metadata": {},
   "outputs": [],
   "source": [
    "\n",
    "\n",
    "\n",
    "trainFile = open(\"shorttrain.corpus\", \"r\", encoding='utf-16')\n",
    "trainLines = trainFile.read().split('\\n')\n",
    "trainFile.close()\n",
    "trainLines.pop()\n",
    "\n",
    "translator = google_translator()\n",
    "\n",
    "for lang in langs:\n",
    "    pool = ThreadPool(16)\n",
    "    # load training data\n",
    "    trainFileName = lang + \"train.corpus\"\n",
    "    langTrainFile = open(trainFileName, \"w\", encoding='utf-16')\n",
    "    try:\n",
    "        lines = pool.map(request, trainLines)\n",
    "    except Exception as e:\n",
    "        raise e\n",
    "    pool.close()\n",
    "    pool.join()\n",
    "    for line in lines:\n",
    "        print(line, file=langTrainFile)\n",
    "    langTrainFile.close()\n"
   ]
  },
  {
   "cell_type": "code",
   "execution_count": 1,
   "metadata": {},
   "outputs": [
    {
     "ename": "NameError",
     "evalue": "name 'langs' is not defined",
     "output_type": "error",
     "traceback": [
      "\u001b[1;31m---------------------------------------------------------------------------\u001b[0m",
      "\u001b[1;31mNameError\u001b[0m                                 Traceback (most recent call last)",
      "\u001b[1;32m<ipython-input-1-94abac6f0b54>\u001b[0m in \u001b[0;36m<module>\u001b[1;34m\u001b[0m\n\u001b[0;32m     10\u001b[0m \u001b[1;33m\u001b[0m\u001b[0m\n\u001b[0;32m     11\u001b[0m \u001b[1;33m\u001b[0m\u001b[0m\n\u001b[1;32m---> 12\u001b[1;33m \u001b[1;32mfor\u001b[0m \u001b[0mlang\u001b[0m \u001b[1;32min\u001b[0m \u001b[0mlangs\u001b[0m\u001b[1;33m:\u001b[0m\u001b[1;33m\u001b[0m\u001b[1;33m\u001b[0m\u001b[0m\n\u001b[0m\u001b[0;32m     13\u001b[0m     \u001b[0mpool\u001b[0m \u001b[1;33m=\u001b[0m \u001b[0mThreadPool\u001b[0m\u001b[1;33m(\u001b[0m\u001b[1;36m16\u001b[0m\u001b[1;33m)\u001b[0m\u001b[1;33m\u001b[0m\u001b[1;33m\u001b[0m\u001b[0m\n\u001b[0;32m     14\u001b[0m     \u001b[1;31m# save validation data\u001b[0m\u001b[1;33m\u001b[0m\u001b[1;33m\u001b[0m\u001b[1;33m\u001b[0m\u001b[0m\n",
      "\u001b[1;31mNameError\u001b[0m: name 'langs' is not defined"
     ]
    }
   ],
   "source": [
    "\n",
    "validFile = open(\"shortvalid.corpus\", \"r\", encoding='utf-16')\n",
    "validLines = validFile.read().split('\\n')\n",
    "validFile.close()\n",
    "validLines.pop()\n",
    "\n",
    "testFile = open(\"shorttest.corpus\", \"r\", encoding='utf-16')\n",
    "testLines = testFile.read().split('\\n')\n",
    "testFile.close()\n",
    "testLines.pop()\n",
    "\n",
    "translator = google_translator()\n",
    "\n",
    "for lang in langs:\n",
    "    pool = ThreadPool(16)\n",
    "    # save validation data\n",
    "    validFileName = lang + \"valid.corpus\"\n",
    "    langValidFile = open(validFileName, \"w\", encoding='utf-16')\n",
    "    try:\n",
    "        lines = pool.map(request, validLines)\n",
    "    except Exception as e:\n",
    "        raise e\n",
    "    pool.close()\n",
    "    pool.join()\n",
    "    for line in lines:\n",
    "        print(line, file=langValidFile)\n",
    "    langValidFile.close()\n",
    "    \n",
    "    pool = ThreadPool(16)\n",
    "    # save testing data\n",
    "    testFileName = lang + \"test.corpus\"\n",
    "    langTestFile = open(testFileName, \"w\", encoding='utf-16')\n",
    "    try:\n",
    "        lines = pool.map(request, validLines)\n",
    "    except Exception as e:\n",
    "        raise e\n",
    "    pool.close()\n",
    "    pool.join()\n",
    "    for line in lines:\n",
    "        print(line, file=langTestFile)\n",
    "    langTestFile.close()\n",
    "    print(lang)"
   ]
  },
  {
   "cell_type": "code",
   "execution_count": 5,
   "metadata": {
    "scrolled": false
   },
   "outputs": [
    {
     "name": "stdout",
     "output_type": "stream",
     "text": [
      "0.8281524181365967\n"
     ]
    }
   ],
   "source": [
    "pool = ThreadPool(16)\n",
    "\n",
    "validFile = open(\"shortValid.corpus\", \"r\", encoding='utf-16')\n",
    "validLines = validFile.read().split('\\n')\n",
    "validFile.close()\n",
    "validLines.pop()\n",
    "\n",
    "t1 = time.time()\n",
    "\n",
    "validFileName = \"frvalid.corpus\"\n",
    "langValidFile = open(validFileName, \"w\", encoding='utf-16')\n",
    "try:\n",
    "    lines = pool.map(request, validLines)\n",
    "except Exception as e:\n",
    "    raise e\n",
    "pool.close()\n",
    "pool.join()\n",
    "\n",
    "for line in lines:\n",
    "    print(line, file=langTrainFile)\n",
    "langTrainFile.close()\n",
    "\n",
    "t2 = time.time()\n",
    "overallTime = t2 - t1\n",
    "print(overallTime)"
   ]
  },
  {
   "cell_type": "code",
   "execution_count": 7,
   "metadata": {},
   "outputs": [
    {
     "name": "stdout",
     "output_type": "stream",
     "text": [
      "['Hello China', 'Hello China'] \n"
     ]
    },
    {
     "data": {
      "text/plain": [
       "['ko', 'korean']"
      ]
     },
     "execution_count": 7,
     "metadata": {},
     "output_type": "execute_result"
    }
   ],
   "source": [
    "translator = google_translator()  \n",
    "translate_text = translator.translate(['สวัสดีจีน', 'สวัสดีจีน'],lang_tgt='en')  \n",
    "print(translate_text)\n",
    "\n",
    "translator.detect('이 문장은 한글로 쓰여졌습니다.')"
   ]
  },
  {
   "cell_type": "code",
   "execution_count": null,
   "metadata": {},
   "outputs": [],
   "source": [
    "f = open(\"test.txt\", \"w\", encoding='utf-8')\n",
    "eachLine = [\"hello\", \"there\"]\n",
    "f.writelines(eachLine)\n",
    "f.close()"
   ]
  },
  {
   "cell_type": "code",
   "execution_count": null,
   "metadata": {},
   "outputs": [],
   "source": []
  }
 ],
 "metadata": {
  "kernelspec": {
   "display_name": "Python 3",
   "language": "python",
   "name": "python3"
  },
  "language_info": {
   "codemirror_mode": {
    "name": "ipython",
    "version": 3
   },
   "file_extension": ".py",
   "mimetype": "text/x-python",
   "name": "python",
   "nbconvert_exporter": "python",
   "pygments_lexer": "ipython3",
   "version": "3.8.5"
  }
 },
 "nbformat": 4,
 "nbformat_minor": 4
}
