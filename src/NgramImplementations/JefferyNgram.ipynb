{
 "cells": [
  {
   "cell_type": "code",
   "execution_count": 1,
   "metadata": {},
   "outputs": [],
   "source": [
    "import numpy as np\n",
    "import os\n",
    "import random\n",
    "from collections import Counter\n",
    "import matplotlib.pyplot as plt\n",
    "import math\n",
    "from mpl_toolkits.mplot3d import axes3d"
   ]
  },
  {
   "cell_type": "code",
   "execution_count": 2,
   "metadata": {},
   "outputs": [],
   "source": [
    "def getData():\n",
    "    trainFile = open(\"1b_benchmark.train.tokens\", \"r\", encoding='utf-8')\n",
    "    trainStr = trainFile.read()\n",
    "    trainFile.close()\n",
    "    trainFull = trainStr.split('\\n')\n",
    "    trainFull.pop()\n",
    "    trainGrid = []\n",
    "    for line in trainFull:\n",
    "        splitLine = line.split(\" \")\n",
    "        splitLine.append(\"<<STOP>>\")\n",
    "        trainGrid.append(splitLine)\n",
    "\n",
    "    devFile = open(\"1b_benchmark.dev.tokens\", \"r\", encoding='utf-8')\n",
    "    devStr = devFile.read()\n",
    "    devFile.close()\n",
    "    devFull = devStr.split('\\n')\n",
    "    devFull.pop()\n",
    "    devGrid = []\n",
    "    for line in devFull:\n",
    "        splitLine = line.split(\" \")\n",
    "        splitLine.append(\"<<STOP>>\")\n",
    "        devGrid.append(splitLine)\n",
    "\n",
    "    testFile = open(\"1b_benchmark.test.tokens\", \"r\", encoding='utf-8')\n",
    "    testStr = testFile.read()\n",
    "    testFile.close()\n",
    "    testFull = testStr.split('\\n')\n",
    "    testFull.pop()\n",
    "    testGrid = []\n",
    "    for line in testFull:\n",
    "        splitLine = line.split(\" \")\n",
    "        splitLine.append(\"<<STOP>>\")\n",
    "        testGrid.append(splitLine)\n",
    "    \n",
    "    return trainGrid, devGrid, testGrid"
   ]
  },
  {
   "cell_type": "code",
   "execution_count": 3,
   "metadata": {},
   "outputs": [],
   "source": [
    "trainGrid, devGrid, testGrid = getData()\n",
    "\n",
    "def getUnique(inp, minFreq=3):\n",
    "    frequency = dict()\n",
    "    for sentence in inp:\n",
    "        for word in sentence:\n",
    "            count = frequency.get(word, 0)\n",
    "            frequency.update({word : count + 1})\n",
    "    vocabSet = set()\n",
    "    for word in frequency:\n",
    "        if frequency[word] >= minFreq:\n",
    "            vocabSet.add(word)\n",
    "    vocabSet.add(\"<<UNK>>\")\n",
    "    return vocabSet\n",
    "\n",
    "def replaceUnk(inp, vocabSet):\n",
    "    output = []\n",
    "    for line in inp:\n",
    "        curr = []\n",
    "        for word in line:\n",
    "            if word not in vocabSet:\n",
    "                curr.append(\"<<UNK>>\")\n",
    "            else:\n",
    "                curr.append(word)\n",
    "        output.append(curr)\n",
    "    return output\n",
    "\n",
    "def padStart(inp, n):\n",
    "    for line in inp:\n",
    "        for i in range(n-1):\n",
    "            line.insert(0, \"<<START>>\")\n",
    "\n",
    "def prepTrain(vocabSet, inp, n):\n",
    "    onlyVocab = replaceUnk(inp, vocabSet)\n",
    "    padStart(onlyVocab, n)\n",
    "    return onlyVocab"
   ]
  },
  {
   "cell_type": "code",
   "execution_count": 4,
   "metadata": {},
   "outputs": [],
   "source": [
    "def unigramTrain(inp, minFreq=3):\n",
    "    vocabSet = getUnique(inp, minFreq)\n",
    "    train = prepTrain(vocabSet, inp, 1)\n",
    "    model = dict()\n",
    "    total = 0.\n",
    "    for line in train:\n",
    "        for i in range(len(line)):\n",
    "            # make a dict from n-1 words to a dict from possible words to probabilities\n",
    "            count = model.get(line[i], 0.)\n",
    "            model.update({line[i]: count + 1.})\n",
    "            total += 1.\n",
    "    for key in model:\n",
    "        model[key] /= total\n",
    "    return model\n",
    "\n",
    "def ngramTrain(inp, n, minFreq=3):\n",
    "    assert(n > 1)\n",
    "    vocabSet = getUnique(inp, minFreq)\n",
    "    train = prepTrain(vocabSet, inp, n)\n",
    "    model = dict()\n",
    "    for line in train:\n",
    "        for i in range(len(line)-n+1):\n",
    "            # make a dict from n-1 words to a dict from possible words to probabilities\n",
    "            curTuple = tuple(line[i:i+n-1])\n",
    "            predWord = line[i+n-1]\n",
    "            curDict = model.get(curTuple, dict())\n",
    "            # curDict will hold a map from possible words to count\n",
    "            count = curDict.get(predWord, 0.)\n",
    "            curDict.update({predWord : count + 1.})\n",
    "            model.update({curTuple: curDict})\n",
    "    for givenTok in model:\n",
    "        possibilities = model[givenTok]\n",
    "        count = 0.\n",
    "        for word in possibilities:\n",
    "            count += possibilities[word]\n",
    "        for word in possibilities:\n",
    "            prob = possibilities[word] / count\n",
    "            possibilities.update({word: prob})\n",
    "        model.update({givenTok: possibilities})\n",
    "    return model"
   ]
  },
  {
   "cell_type": "code",
   "execution_count": 5,
   "metadata": {},
   "outputs": [],
   "source": [
    "def perplexity(data, model, n, lidstone=1e-10):\n",
    "    lgP = 0.\n",
    "    N = 0\n",
    "    for line in data:\n",
    "        for i in range(len(line) - n + 1):\n",
    "            if n == 1:\n",
    "                prob = model.get(line[i])\n",
    "                if prob != None:\n",
    "                    lgP += math.log2(prob+lidstone)\n",
    "                    N += 1\n",
    "            else:\n",
    "                prefix = tuple(line[i:i+n-1])\n",
    "                predWord = line[i+n-1]\n",
    "                probs = model.get(prefix)\n",
    "                if probs != None:\n",
    "                    prob = probs.get(predWord)\n",
    "                    if prob != None:\n",
    "                        lgP += math.log2(prob+lidstone)\n",
    "                    else:\n",
    "                        if (lidstone == 0):\n",
    "                            lgP += math.infty\n",
    "                        else:\n",
    "                            lgP += math.log2(lidstone)\n",
    "                else:\n",
    "                    if (lidstone == 0):\n",
    "                        lgP += math.infty\n",
    "                    else:\n",
    "                        lgP += math.log2(lidstone)\n",
    "                N += 1\n",
    "    perplexity = 2**(-(lgP)/N)\n",
    "    return perplexity"
   ]
  },
  {
   "cell_type": "code",
   "execution_count": 6,
   "metadata": {},
   "outputs": [],
   "source": [
    "# In order to train a unigram model, run unigramTrain(trainGrid)\n",
    "# In order to train an ngram model, run ngramTrain(trainGrid, n)\n",
    "# Also run getUnique(trainGrid) to get the vocabSet of the training data\n",
    "# To get your data ready to calculate perplexity, run prepTrain(vocabSet, data, n)\n",
    "# perplexity(data, model, n, lidstone)"
   ]
  },
  {
   "cell_type": "code",
   "execution_count": 7,
   "metadata": {},
   "outputs": [],
   "source": [
    "uniModel = unigramTrain(trainGrid)\n",
    "biModel = ngramTrain(trainGrid, 2)\n",
    "triModel = ngramTrain(trainGrid, 3)\n",
    "\n",
    "vocabSet = getUnique(trainGrid)"
   ]
  },
  {
   "cell_type": "code",
   "execution_count": 8,
   "metadata": {},
   "outputs": [
    {
     "name": "stdout",
     "output_type": "stream",
     "text": [
      "976.5411444639831\n",
      "892.2445011149975\n",
      "896.497317179392\n"
     ]
    }
   ],
   "source": [
    "uniTrain = prepTrain(vocabSet, trainGrid, 1)\n",
    "uniDev = prepTrain(vocabSet, devGrid, 1)\n",
    "uniTest = prepTrain(vocabSet, testGrid, 1)\n",
    "\n",
    "p1Train = perplexity(uniTrain, uniModel, 1)\n",
    "p1Dev = perplexity(uniDev, uniModel, 1)\n",
    "p1Test = perplexity(uniTest, uniModel, 1)\n",
    "\n",
    "print(p1Train)\n",
    "print(p1Dev)\n",
    "print(p1Test)"
   ]
  },
  {
   "cell_type": "code",
   "execution_count": 9,
   "metadata": {},
   "outputs": [
    {
     "name": "stdout",
     "output_type": "stream",
     "text": [
      "77.07344811555525\n",
      "3443.0399498324327\n",
      "3436.4874639833656\n"
     ]
    }
   ],
   "source": [
    "biTrain = prepTrain(vocabSet, trainGrid, 2)\n",
    "biDev = prepTrain(vocabSet, devGrid, 2)\n",
    "biTest = prepTrain(vocabSet, testGrid, 2)\n",
    "\n",
    "p2Train = perplexity(biTrain, biModel, 2)\n",
    "p2Dev = perplexity(biDev, biModel, 2)\n",
    "p2Test = perplexity(biTest, biModel, 2)\n",
    "\n",
    "print(p2Train)\n",
    "print(p2Dev)\n",
    "print(p2Test)"
   ]
  },
  {
   "cell_type": "code",
   "execution_count": 10,
   "metadata": {},
   "outputs": [
    {
     "name": "stdout",
     "output_type": "stream",
     "text": [
      "7.872967692312193\n",
      "2607451.875184274\n",
      "2543381.7602521325\n"
     ]
    }
   ],
   "source": [
    "triTrain = prepTrain(vocabSet, trainGrid, 3)\n",
    "triDev = prepTrain(vocabSet, devGrid, 3)\n",
    "triTest = prepTrain(vocabSet, testGrid, 3)\n",
    "\n",
    "p3Train = perplexity(triTrain, triModel, 3)\n",
    "p3Dev = perplexity(triDev, triModel, 3)\n",
    "p3Test = perplexity(triTest, triModel, 3)\n",
    "\n",
    "print(p3Train)\n",
    "print(p3Dev)\n",
    "print(p3Test)"
   ]
  },
  {
   "cell_type": "code",
   "execution_count": 41,
   "metadata": {},
   "outputs": [],
   "source": [
    "def smoothPerp(data, uniModel, biModel, triModel, lamda1, lamda2):\n",
    "    lamda3 = 1 - lamda1 - lamda2\n",
    "    lgP = 0.\n",
    "    N = 0\n",
    "    for line in data:\n",
    "        for i in range(len(line) - 2):\n",
    "            predWord = line[i+2]\n",
    "            \n",
    "            # unigram\n",
    "            uniProb = uniModel.get(predWord)\n",
    "            if uniProb == None:\n",
    "                uniProb = 0\n",
    "            \n",
    "            biPrefix = tuple(line[i+1:i+2])\n",
    "            biProbs = biModel.get(biPrefix)\n",
    "            biProb = 0\n",
    "            if biProbs != None:\n",
    "                biProb = biProbs.get(predWord)\n",
    "                if biProb == None:\n",
    "                    biProb = 0\n",
    "            \n",
    "            triPrefix = tuple(line[i:i+2])\n",
    "            triProbs = triModel.get(triPrefix)\n",
    "            triProb = 0\n",
    "            if triProbs != None:\n",
    "                triProb = triProbs.get(predWord)\n",
    "                if triProb == None:\n",
    "                    triProb = 0\n",
    "            \n",
    "            prob = lamda1 * uniProb + lamda2 * biProb + lamda3 * triProb\n",
    "            if (prob == 0):\n",
    "                print(predWord)\n",
    "                print(\"1\", uniProb)\n",
    "                print(\"2\", biProb)\n",
    "                print(\"3\", triProb)\n",
    "                \n",
    "            lgP += math.log2(prob)\n",
    "            N += 1\n",
    "    perplexity = 2**(-(lgP)/N)\n",
    "    return perplexity"
   ]
  },
  {
   "cell_type": "code",
   "execution_count": 12,
   "metadata": {},
   "outputs": [
    {
     "name": "stdout",
     "output_type": "stream",
     "text": [
      "[11.151493208701995, 15.300892892215922, 14.6972363045192, 31.16995276053765, 11.966576562787939]\n",
      "[352.2341845188709, 286.63486984513986, 286.36151780521215, 261.59781170012275, 364.0940542273087]\n"
     ]
    }
   ],
   "source": [
    "l=[[0.1, 0.3], [0.3, 0.3], [0.2, 0.4], [0.3, 0.6], [0.3, 0.1]]\n",
    "\n",
    "lamdas = np.array(l)\n",
    "smoothTrain = []\n",
    "smoothDev = []\n",
    "for lamda in lamdas:\n",
    "    t = smoothPerp(triTrain, uniModel, biModel, triModel, lamda[0], lamda[1])\n",
    "    smoothTrain.append(t)\n",
    "    d = smoothPerp(triDev, uniModel, biModel, triModel, lamda[0], lamda[1])\n",
    "    smoothDev.append(d)\n",
    "print(smoothTrain)\n",
    "print(smoothDev)"
   ]
  },
  {
   "cell_type": "code",
   "execution_count": 13,
   "metadata": {},
   "outputs": [
    {
     "name": "stdout",
     "output_type": "stream",
     "text": [
      "[0.1 0.3 0.2 0.3 0.3]\n"
     ]
    }
   ],
   "source": [
    "print(lamdas[:,0])\n"
   ]
  },
  {
   "cell_type": "code",
   "execution_count": 14,
   "metadata": {},
   "outputs": [
    {
     "data": {
      "image/png": "[encoded data removed]",
      "text/plain": [
       "<Figure size 432x288 with 1 Axes>"
      ]
     },
     "metadata": {
      "needs_background": "light"
     },
     "output_type": "display_data"
    }
   ],
   "source": [
    "fig = plt.figure()\n",
    "ax = fig.add_subplot(111, projection='3d')\n",
    "ax.scatter(lamdas[:, 0], lamdas[:, 1], smoothTrain, marker='^')\n",
    "ax.set_xlabel('$\\lambda_1$')\n",
    "ax.set_ylabel('$\\lambda_2$')\n",
    "ax.set_zlabel('Perplexity')\n",
    "plt.title('$\\lambda_1$ vs $\\lambda_2$ vs Perplexity for Training Set')\n",
    "plt.show()"
   ]
  },
  {
   "cell_type": "code",
   "execution_count": 15,
   "metadata": {},
   "outputs": [
    {
     "data": {
      "image/png": "[encoded data removed]",
      "text/plain": [
       "<Figure size 432x288 with 1 Axes>"
      ]
     },
     "metadata": {
      "needs_background": "light"
     },
     "output_type": "display_data"
    }
   ],
   "source": [
    "fig = plt.figure()\n",
    "ax = fig.add_subplot(111, projection='3d')\n",
    "ax.scatter(lamdas[:, 0], lamdas[:, 1], smoothDev, marker='^')\n",
    "ax.set_xlabel('$\\lambda_1$')\n",
    "ax.set_ylabel('$\\lambda_2$')\n",
    "ax.set_zlabel('Perplexity')\n",
    "plt.title('$\\lambda_1$ vs $\\lambda_2$ vs Perplexity for Dev Set')\n",
    "plt.show()"
   ]
  },
  {
   "cell_type": "code",
   "execution_count": 16,
   "metadata": {},
   "outputs": [
    {
     "name": "stdout",
     "output_type": "stream",
     "text": [
      "train: 11.151493208701995\n",
      "dev: 352.2341845188709\n",
      "[0.1, 0.3]\n",
      "train: 15.300892892215922\n",
      "dev: 286.63486984513986\n",
      "[0.3, 0.3]\n",
      "train: 14.6972363045192\n",
      "dev: 286.36151780521215\n",
      "[0.2, 0.4]\n",
      "train: 31.16995276053765\n",
      "dev: 261.59781170012275\n",
      "[0.3, 0.6]\n",
      "train: 11.966576562787939\n",
      "dev: 364.0940542273087\n",
      "[0.3, 0.1]\n"
     ]
    }
   ],
   "source": [
    "for i in range(len(l)):\n",
    "    print('train:', smoothTrain[i])\n",
    "    print('dev:', smoothDev[i])\n",
    "    print(l[i])"
   ]
  },
  {
   "cell_type": "code",
   "execution_count": 17,
   "metadata": {},
   "outputs": [
    {
     "name": "stdout",
     "output_type": "stream",
     "text": [
      "31.16995276053765\n",
      "261.59781170012275\n",
      "261.53193932992315\n"
     ]
    }
   ],
   "source": [
    "devMin = np.argmin(np.array(smoothDev))\n",
    "\n",
    "t = smoothPerp(triTrain, uniModel, biModel, triModel, lamdas[devMin,0], lamdas[devMin,1])\n",
    "d = smoothPerp(triDev, uniModel, biModel, triModel, lamdas[devMin,0], lamdas[devMin,1])\n",
    "testP = smoothPerp(triTest, uniModel, biModel, triModel, lamdas[devMin,0], lamdas[devMin,1])\n",
    "print(t)\n",
    "print(d)\n",
    "print(testP)"
   ]
  },
  {
   "cell_type": "markdown",
   "metadata": {},
   "source": [
    "# 4.3.3"
   ]
  },
  {
   "cell_type": "code",
   "execution_count": 30,
   "metadata": {},
   "outputs": [],
   "source": [
    "numData = len(trainGrid)\n",
    "halfTrain = trainGrid[0:int(len(trainGrid)/2)]"
   ]
  },
  {
   "cell_type": "code",
   "execution_count": 31,
   "metadata": {},
   "outputs": [],
   "source": [
    "uniHalf = unigramTrain(halfTrain)\n",
    "biHalf = ngramTrain(halfTrain, 2)\n",
    "triHalf = ngramTrain(halfTrain, 3)\n",
    "\n",
    "halfVocabSet = getUnique(halfTrain)\n",
    "\n",
    "halfTrain = prepTrain(halfVocabSet, halfTrain, 3)\n",
    "halfDev = prepTrain(halfVocabSet, devGrid, 3)\n",
    "halfTest = prepTrain(halfVocabSet, testGrid, 3)\n"
   ]
  },
  {
   "cell_type": "code",
   "execution_count": 32,
   "metadata": {},
   "outputs": [
    {
     "name": "stdout",
     "output_type": "stream",
     "text": [
      "26.149198619418037\n",
      "247.02824400889065\n",
      "247.7061378730253\n"
     ]
    }
   ],
   "source": [
    "devMin = np.argmin(np.array(smoothDev))\n",
    "\n",
    "halfTrainPerp = smoothPerp(halfTrain, uniHalf, biHalf, triHalf, lamdas[devMin,0], lamdas[devMin,1])\n",
    "halfDevPerp = smoothPerp(halfDev, uniHalf, biHalf, triHalf, lamdas[devMin,0], lamdas[devMin,1])\n",
    "halfTestPerp = smoothPerp(halfTest, uniHalf, biHalf, triHalf, lamdas[devMin,0], lamdas[devMin,1])\n",
    "print(halfTrainPerp)\n",
    "print(halfDevPerp)\n",
    "print(halfTestPerp)"
   ]
  },
  {
   "cell_type": "markdown",
   "metadata": {},
   "source": [
    "# 4.3.4"
   ]
  },
  {
   "cell_type": "code",
   "execution_count": 34,
   "metadata": {},
   "outputs": [
    {
     "name": "stdout",
     "output_type": "stream",
     "text": [
      "32.57992391019437\n",
      "220.63705644266554\n",
      "220.66245286878663\n"
     ]
    }
   ],
   "source": [
    "fiveUnkUni = unigramTrain(trainGrid, minFreq=5)\n",
    "fiveUnkBi = ngramTrain(trainGrid, 2, minFreq=5)\n",
    "fiveUnkTri = ngramTrain(trainGrid, 3, minFreq=5)\n",
    "fiveVocabSet = getUnique(trainGrid, minFreq=5)\n",
    "\n",
    "fiveTrain = prepTrain(fiveVocabSet, trainGrid, 3)\n",
    "fiveDev = prepTrain(fiveVocabSet, devGrid, 3)\n",
    "fiveTest = prepTrain(fiveVocabSet, testGrid, 3)\n",
    "\n",
    "fiveTrainPerp = smoothPerp(fiveTrain, fiveUnkUni, fiveUnkBi, fiveUnkTri, lamdas[devMin,0], lamdas[devMin,1])\n",
    "fiveDevPerp = smoothPerp(fiveDev, fiveUnkUni, fiveUnkBi, fiveUnkTri, lamdas[devMin,0], lamdas[devMin,1])\n",
    "fiveTestPerp = smoothPerp(fiveTest, fiveUnkUni, fiveUnkBi, fiveUnkTri, lamdas[devMin,0], lamdas[devMin,1])\n",
    "print(fiveTrainPerp)\n",
    "print(fiveDevPerp)\n",
    "print(fiveTestPerp)"
   ]
  },
  {
   "cell_type": "code",
   "execution_count": null,
   "metadata": {},
   "outputs": [],
   "source": []
  }
 ],
 "metadata": {
  "kernelspec": {
   "display_name": "Python 3",
   "language": "python",
   "name": "python3"
  },
  "language_info": {
   "codemirror_mode": {
    "name": "ipython",
    "version": 3
   },
   "file_extension": ".py",
   "mimetype": "text/x-python",
   "name": "python",
   "nbconvert_exporter": "python",
   "pygments_lexer": "ipython3",
   "version": "3.8.5"
  }
 },
 "nbformat": 4,
 "nbformat_minor": 4
}
